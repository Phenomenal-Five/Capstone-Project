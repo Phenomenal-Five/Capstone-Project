{
 "cells": [
  {
   "cell_type": "code",
   "execution_count": 1,
   "metadata": {
    "scrolled": true
   },
   "outputs": [],
   "source": [
    "import numpy as np\n",
    "import pandas as pd\n",
    "from sklearn.model_selection import train_test_split\n",
    "from sklearn.tree import DecisionTreeClassifier\n",
    "from sklearn.ensemble import RandomForestClassifier\n",
    "from sklearn.metrics import confusion_matrix, zero_one_loss"
   ]
  },
  {
   "cell_type": "code",
   "execution_count": 2,
   "metadata": {},
   "outputs": [],
   "source": [
    "raw_data = pd.read_csv('datasets/kddcup.data_10_percent.gz', header=None)\n",
    "# Raw Data Backup\n",
    "raw_data_backup = raw_data"
   ]
  },
  {
   "cell_type": "code",
   "execution_count": 3,
   "metadata": {},
   "outputs": [],
   "source": [
    "# Conditions start to be in categories\n",
    "DOS = (raw_data[41] == 'back.') | (raw_data[41] == 'land.') | (raw_data[41] == 'neptune.') | (raw_data[41] == 'pod.') | (raw_data[41] == 'smurf.') | (raw_data[41] == 'teardrop.')\n",
    "U2R = (raw_data[41] == 'buffer_overflow.') | (raw_data[41] == 'loadmodule.') | (raw_data[41] == 'perl.') | (raw_data[41] == 'rootkit.')\n",
    "R2L = (raw_data[41] == 'ftp_write.') | (raw_data[41] == 'guess_passwd.') | (raw_data[41] == 'imap.') | (raw_data[41] == 'multihop.') | (raw_data[41] == 'phf.') | (raw_data[41] == 'spy.') | (raw_data[41] == 'warezclient.') | (raw_data[41] == 'warezmaster.')\n",
    "probe = (raw_data[41] == 'satan.') | (raw_data[41] == 'ipsweep.') | (raw_data[41] == 'portsweep.') | (raw_data[41] == 'nmap.')\n",
    "# Conditions end\n",
    "\n",
    "raw_data[42] = np.where(DOS, 'dos', np.where(U2R, 'u2r', np.where(R2L, 'r2l', np.where(probe, 'probe', raw_data[41]))))"
   ]
  },
  {
   "cell_type": "code",
   "execution_count": 4,
   "metadata": {},
   "outputs": [
    {
     "data": {
      "text/html": [
       "<div>\n",
       "<style scoped>\n",
       "    .dataframe tbody tr th:only-of-type {\n",
       "        vertical-align: middle;\n",
       "    }\n",
       "\n",
       "    .dataframe tbody tr th {\n",
       "        vertical-align: top;\n",
       "    }\n",
       "\n",
       "    .dataframe thead th {\n",
       "        text-align: right;\n",
       "    }\n",
       "</style>\n",
       "<table border=\"1\" class=\"dataframe\">\n",
       "  <thead>\n",
       "    <tr style=\"text-align: right;\">\n",
       "      <th></th>\n",
       "      <th>0</th>\n",
       "      <th>1</th>\n",
       "      <th>2</th>\n",
       "      <th>3</th>\n",
       "      <th>4</th>\n",
       "      <th>5</th>\n",
       "      <th>6</th>\n",
       "      <th>7</th>\n",
       "      <th>8</th>\n",
       "      <th>9</th>\n",
       "      <th>...</th>\n",
       "      <th>33</th>\n",
       "      <th>34</th>\n",
       "      <th>35</th>\n",
       "      <th>36</th>\n",
       "      <th>37</th>\n",
       "      <th>38</th>\n",
       "      <th>39</th>\n",
       "      <th>40</th>\n",
       "      <th>41</th>\n",
       "      <th>42</th>\n",
       "    </tr>\n",
       "  </thead>\n",
       "  <tbody>\n",
       "    <tr>\n",
       "      <th>0</th>\n",
       "      <td>0</td>\n",
       "      <td>tcp</td>\n",
       "      <td>http</td>\n",
       "      <td>SF</td>\n",
       "      <td>181</td>\n",
       "      <td>5450</td>\n",
       "      <td>0</td>\n",
       "      <td>0</td>\n",
       "      <td>0</td>\n",
       "      <td>0</td>\n",
       "      <td>...</td>\n",
       "      <td>1.0</td>\n",
       "      <td>0.0</td>\n",
       "      <td>0.11</td>\n",
       "      <td>0.00</td>\n",
       "      <td>0.0</td>\n",
       "      <td>0.0</td>\n",
       "      <td>0.0</td>\n",
       "      <td>0.0</td>\n",
       "      <td>normal.</td>\n",
       "      <td>normal.</td>\n",
       "    </tr>\n",
       "    <tr>\n",
       "      <th>1</th>\n",
       "      <td>0</td>\n",
       "      <td>tcp</td>\n",
       "      <td>http</td>\n",
       "      <td>SF</td>\n",
       "      <td>239</td>\n",
       "      <td>486</td>\n",
       "      <td>0</td>\n",
       "      <td>0</td>\n",
       "      <td>0</td>\n",
       "      <td>0</td>\n",
       "      <td>...</td>\n",
       "      <td>1.0</td>\n",
       "      <td>0.0</td>\n",
       "      <td>0.05</td>\n",
       "      <td>0.00</td>\n",
       "      <td>0.0</td>\n",
       "      <td>0.0</td>\n",
       "      <td>0.0</td>\n",
       "      <td>0.0</td>\n",
       "      <td>normal.</td>\n",
       "      <td>normal.</td>\n",
       "    </tr>\n",
       "    <tr>\n",
       "      <th>2</th>\n",
       "      <td>0</td>\n",
       "      <td>tcp</td>\n",
       "      <td>http</td>\n",
       "      <td>SF</td>\n",
       "      <td>235</td>\n",
       "      <td>1337</td>\n",
       "      <td>0</td>\n",
       "      <td>0</td>\n",
       "      <td>0</td>\n",
       "      <td>0</td>\n",
       "      <td>...</td>\n",
       "      <td>1.0</td>\n",
       "      <td>0.0</td>\n",
       "      <td>0.03</td>\n",
       "      <td>0.00</td>\n",
       "      <td>0.0</td>\n",
       "      <td>0.0</td>\n",
       "      <td>0.0</td>\n",
       "      <td>0.0</td>\n",
       "      <td>normal.</td>\n",
       "      <td>normal.</td>\n",
       "    </tr>\n",
       "    <tr>\n",
       "      <th>3</th>\n",
       "      <td>0</td>\n",
       "      <td>tcp</td>\n",
       "      <td>http</td>\n",
       "      <td>SF</td>\n",
       "      <td>219</td>\n",
       "      <td>1337</td>\n",
       "      <td>0</td>\n",
       "      <td>0</td>\n",
       "      <td>0</td>\n",
       "      <td>0</td>\n",
       "      <td>...</td>\n",
       "      <td>1.0</td>\n",
       "      <td>0.0</td>\n",
       "      <td>0.03</td>\n",
       "      <td>0.00</td>\n",
       "      <td>0.0</td>\n",
       "      <td>0.0</td>\n",
       "      <td>0.0</td>\n",
       "      <td>0.0</td>\n",
       "      <td>normal.</td>\n",
       "      <td>normal.</td>\n",
       "    </tr>\n",
       "    <tr>\n",
       "      <th>4</th>\n",
       "      <td>0</td>\n",
       "      <td>tcp</td>\n",
       "      <td>http</td>\n",
       "      <td>SF</td>\n",
       "      <td>217</td>\n",
       "      <td>2032</td>\n",
       "      <td>0</td>\n",
       "      <td>0</td>\n",
       "      <td>0</td>\n",
       "      <td>0</td>\n",
       "      <td>...</td>\n",
       "      <td>1.0</td>\n",
       "      <td>0.0</td>\n",
       "      <td>0.02</td>\n",
       "      <td>0.00</td>\n",
       "      <td>0.0</td>\n",
       "      <td>0.0</td>\n",
       "      <td>0.0</td>\n",
       "      <td>0.0</td>\n",
       "      <td>normal.</td>\n",
       "      <td>normal.</td>\n",
       "    </tr>\n",
       "    <tr>\n",
       "      <th>5</th>\n",
       "      <td>0</td>\n",
       "      <td>tcp</td>\n",
       "      <td>http</td>\n",
       "      <td>SF</td>\n",
       "      <td>217</td>\n",
       "      <td>2032</td>\n",
       "      <td>0</td>\n",
       "      <td>0</td>\n",
       "      <td>0</td>\n",
       "      <td>0</td>\n",
       "      <td>...</td>\n",
       "      <td>1.0</td>\n",
       "      <td>0.0</td>\n",
       "      <td>0.02</td>\n",
       "      <td>0.00</td>\n",
       "      <td>0.0</td>\n",
       "      <td>0.0</td>\n",
       "      <td>0.0</td>\n",
       "      <td>0.0</td>\n",
       "      <td>normal.</td>\n",
       "      <td>normal.</td>\n",
       "    </tr>\n",
       "    <tr>\n",
       "      <th>6</th>\n",
       "      <td>0</td>\n",
       "      <td>tcp</td>\n",
       "      <td>http</td>\n",
       "      <td>SF</td>\n",
       "      <td>212</td>\n",
       "      <td>1940</td>\n",
       "      <td>0</td>\n",
       "      <td>0</td>\n",
       "      <td>0</td>\n",
       "      <td>0</td>\n",
       "      <td>...</td>\n",
       "      <td>1.0</td>\n",
       "      <td>0.0</td>\n",
       "      <td>1.00</td>\n",
       "      <td>0.04</td>\n",
       "      <td>0.0</td>\n",
       "      <td>0.0</td>\n",
       "      <td>0.0</td>\n",
       "      <td>0.0</td>\n",
       "      <td>normal.</td>\n",
       "      <td>normal.</td>\n",
       "    </tr>\n",
       "    <tr>\n",
       "      <th>7</th>\n",
       "      <td>0</td>\n",
       "      <td>tcp</td>\n",
       "      <td>http</td>\n",
       "      <td>SF</td>\n",
       "      <td>159</td>\n",
       "      <td>4087</td>\n",
       "      <td>0</td>\n",
       "      <td>0</td>\n",
       "      <td>0</td>\n",
       "      <td>0</td>\n",
       "      <td>...</td>\n",
       "      <td>1.0</td>\n",
       "      <td>0.0</td>\n",
       "      <td>0.09</td>\n",
       "      <td>0.04</td>\n",
       "      <td>0.0</td>\n",
       "      <td>0.0</td>\n",
       "      <td>0.0</td>\n",
       "      <td>0.0</td>\n",
       "      <td>normal.</td>\n",
       "      <td>normal.</td>\n",
       "    </tr>\n",
       "    <tr>\n",
       "      <th>8</th>\n",
       "      <td>0</td>\n",
       "      <td>tcp</td>\n",
       "      <td>http</td>\n",
       "      <td>SF</td>\n",
       "      <td>210</td>\n",
       "      <td>151</td>\n",
       "      <td>0</td>\n",
       "      <td>0</td>\n",
       "      <td>0</td>\n",
       "      <td>0</td>\n",
       "      <td>...</td>\n",
       "      <td>1.0</td>\n",
       "      <td>0.0</td>\n",
       "      <td>0.12</td>\n",
       "      <td>0.04</td>\n",
       "      <td>0.0</td>\n",
       "      <td>0.0</td>\n",
       "      <td>0.0</td>\n",
       "      <td>0.0</td>\n",
       "      <td>normal.</td>\n",
       "      <td>normal.</td>\n",
       "    </tr>\n",
       "    <tr>\n",
       "      <th>9</th>\n",
       "      <td>0</td>\n",
       "      <td>tcp</td>\n",
       "      <td>http</td>\n",
       "      <td>SF</td>\n",
       "      <td>212</td>\n",
       "      <td>786</td>\n",
       "      <td>0</td>\n",
       "      <td>0</td>\n",
       "      <td>0</td>\n",
       "      <td>1</td>\n",
       "      <td>...</td>\n",
       "      <td>1.0</td>\n",
       "      <td>0.0</td>\n",
       "      <td>0.12</td>\n",
       "      <td>0.05</td>\n",
       "      <td>0.0</td>\n",
       "      <td>0.0</td>\n",
       "      <td>0.0</td>\n",
       "      <td>0.0</td>\n",
       "      <td>normal.</td>\n",
       "      <td>normal.</td>\n",
       "    </tr>\n",
       "  </tbody>\n",
       "</table>\n",
       "<p>10 rows × 43 columns</p>\n",
       "</div>"
      ],
      "text/plain": [
       "   0    1     2   3    4     5   6   7   8   9    ...      33   34    35  \\\n",
       "0   0  tcp  http  SF  181  5450   0   0   0   0   ...     1.0  0.0  0.11   \n",
       "1   0  tcp  http  SF  239   486   0   0   0   0   ...     1.0  0.0  0.05   \n",
       "2   0  tcp  http  SF  235  1337   0   0   0   0   ...     1.0  0.0  0.03   \n",
       "3   0  tcp  http  SF  219  1337   0   0   0   0   ...     1.0  0.0  0.03   \n",
       "4   0  tcp  http  SF  217  2032   0   0   0   0   ...     1.0  0.0  0.02   \n",
       "5   0  tcp  http  SF  217  2032   0   0   0   0   ...     1.0  0.0  0.02   \n",
       "6   0  tcp  http  SF  212  1940   0   0   0   0   ...     1.0  0.0  1.00   \n",
       "7   0  tcp  http  SF  159  4087   0   0   0   0   ...     1.0  0.0  0.09   \n",
       "8   0  tcp  http  SF  210   151   0   0   0   0   ...     1.0  0.0  0.12   \n",
       "9   0  tcp  http  SF  212   786   0   0   0   1   ...     1.0  0.0  0.12   \n",
       "\n",
       "     36   37   38   39   40       41       42  \n",
       "0  0.00  0.0  0.0  0.0  0.0  normal.  normal.  \n",
       "1  0.00  0.0  0.0  0.0  0.0  normal.  normal.  \n",
       "2  0.00  0.0  0.0  0.0  0.0  normal.  normal.  \n",
       "3  0.00  0.0  0.0  0.0  0.0  normal.  normal.  \n",
       "4  0.00  0.0  0.0  0.0  0.0  normal.  normal.  \n",
       "5  0.00  0.0  0.0  0.0  0.0  normal.  normal.  \n",
       "6  0.04  0.0  0.0  0.0  0.0  normal.  normal.  \n",
       "7  0.04  0.0  0.0  0.0  0.0  normal.  normal.  \n",
       "8  0.04  0.0  0.0  0.0  0.0  normal.  normal.  \n",
       "9  0.05  0.0  0.0  0.0  0.0  normal.  normal.  \n",
       "\n",
       "[10 rows x 43 columns]"
      ]
     },
     "execution_count": 4,
     "metadata": {},
     "output_type": "execute_result"
    }
   ],
   "source": [
    "raw_data.head(10)"
   ]
  },
  {
   "cell_type": "code",
   "execution_count": 5,
   "metadata": {},
   "outputs": [],
   "source": [
    "raw_data.drop([41], axis=1, inplace=True)"
   ]
  },
  {
   "cell_type": "code",
   "execution_count": 6,
   "metadata": {},
   "outputs": [],
   "source": [
    "# Categorize columns: \"protocol\", \"service\", \"flag\", \"attack_type\"\n",
    "raw_data[1], protocols= pd.factorize(raw_data[1])\n",
    "raw_data[2], services = pd.factorize(raw_data[2])\n",
    "raw_data[3], flags    = pd.factorize(raw_data[3])\n",
    "raw_data[42], attacks_cat = pd.factorize(raw_data[42])"
   ]
  },
  {
   "cell_type": "code",
   "execution_count": 7,
   "metadata": {},
   "outputs": [],
   "source": [
    "features= raw_data.iloc[:,:raw_data.shape[1]-1]\n",
    "labels= raw_data.iloc[:,raw_data.shape[1]-1:]"
   ]
  },
  {
   "cell_type": "code",
   "execution_count": 8,
   "metadata": {},
   "outputs": [],
   "source": [
    "# convert them into numpy arrays\n",
    "#features= numpy.array(features)\n",
    "#labels= numpy.array(labels).ravel() # this becomes an 'horizontal' array\n",
    "labels= labels.values.ravel() # this becomes a 'horizontal' array"
   ]
  },
  {
   "cell_type": "code",
   "execution_count": 9,
   "metadata": {},
   "outputs": [
    {
     "name": "stdout",
     "output_type": "stream",
     "text": [
      "X_train, y_train: (395216, 41) (395216,)\n",
      "X_test, y_test: (98805, 41) (98805,)\n"
     ]
    }
   ],
   "source": [
    "# Separate data in train set and test set\n",
    "df= pd.DataFrame(features)\n",
    "# create training and testing vars\n",
    "# Note: train_size + test_size < 1.0 means we are subsampling\n",
    "# Use small numbers for slow classifiers, as KNN, Radius, SVC,...\n",
    "X_train, X_test, y_train, y_test = train_test_split(df, labels, train_size=0.8, test_size=0.2)\n",
    "print(\"X_train, y_train:\", X_train.shape, y_train.shape)\n",
    "print(\"X_test, y_test:\", X_test.shape, y_test.shape)"
   ]
  },
  {
   "cell_type": "code",
   "execution_count": 10,
   "metadata": {},
   "outputs": [
    {
     "name": "stdout",
     "output_type": "stream",
     "text": [
      "Training model\n"
     ]
    }
   ],
   "source": [
    "# Training, choose model by commenting/uncommenting clf=\n",
    "print(\"Training model\")\n",
    "# Random Forest Classifier\n",
    "\n",
    "clf= RandomForestClassifier(n_jobs=-1, random_state=3, n_estimators=102)#, max_features=0.8, min_samples_leaf=3, n_estimators=500, min_samples_split=3, random_state=10, verbose=1)\n",
    "#clf = DecisionTreeClassifier(criterion='gini', splitter='best', max_depth=None, min_samples_split=2, min_samples_leaf=1, min_weight_fraction_leaf=0.0, max_features=None, random_state=None, max_leaf_nodes=None, min_impurity_decrease=0.0, class_weight=None, presort=False)"
   ]
  },
  {
   "cell_type": "code",
   "execution_count": 11,
   "metadata": {},
   "outputs": [
    {
     "name": "stdout",
     "output_type": "stream",
     "text": [
      "Wall time: 14.6 s\n"
     ]
    }
   ],
   "source": [
    "%%time\n",
    "model = clf.fit(X_train, y_train)"
   ]
  },
  {
   "cell_type": "code",
   "execution_count": 12,
   "metadata": {},
   "outputs": [
    {
     "name": "stdout",
     "output_type": "stream",
     "text": [
      "Wall time: 96.1 ms\n"
     ]
    }
   ],
   "source": [
    "%%time\n",
    "from sklearn.externals import joblib\n",
    "# save the model to disk\n",
    "filename = 'RandomForest_finalized_model.sav'\n",
    "joblib.dump(model, filename)"
   ]
  },
  {
   "cell_type": "code",
   "execution_count": 13,
   "metadata": {},
   "outputs": [
    {
     "name": "stdout",
     "output_type": "stream",
     "text": [
      "Wall time: 31.2 ms\n"
     ]
    }
   ],
   "source": [
    "%%time\n",
    "# load the model from disk\n",
    "trained_model = joblib.load(filename)"
   ]
  },
  {
   "cell_type": "code",
   "execution_count": 14,
   "metadata": {},
   "outputs": [
    {
     "name": "stdout",
     "output_type": "stream",
     "text": [
      "Score:  0.9999974697380672\n"
     ]
    }
   ],
   "source": [
    "print(\"Score: \", trained_model.score(X_train, y_train))"
   ]
  },
  {
   "cell_type": "code",
   "execution_count": 15,
   "metadata": {},
   "outputs": [
    {
     "name": "stdout",
     "output_type": "stream",
     "text": [
      "Predicting\n",
      "Wall time: 640 ms\n"
     ]
    }
   ],
   "source": [
    "%%time\n",
    "# Predicting\n",
    "print(\"Predicting\")\n",
    "y_pred = clf.predict(X_test)"
   ]
  },
  {
   "cell_type": "code",
   "execution_count": 16,
   "metadata": {},
   "outputs": [
    {
     "name": "stdout",
     "output_type": "stream",
     "text": [
      "Computing performance metrics\n"
     ]
    }
   ],
   "source": [
    "print(\"Computing performance metrics\")\n",
    "results = confusion_matrix(y_test, y_pred)\n",
    "error = zero_one_loss(y_test, y_pred)"
   ]
  },
  {
   "cell_type": "code",
   "execution_count": 17,
   "metadata": {},
   "outputs": [
    {
     "data": {
      "text/plain": [
       "(494021,)"
      ]
     },
     "execution_count": 17,
     "metadata": {},
     "output_type": "execute_result"
    }
   ],
   "source": [
    "from sklearn.metrics import classification_report\n",
    "labels.shape\n",
    "# target_names = dict(enumerate(labels))\n",
    "# np.unique(target_names)\n",
    "# print(target_names)\n",
    "# print(classification_report(y_true, y_pred, target_names=target_names))"
   ]
  },
  {
   "cell_type": "code",
   "execution_count": 18,
   "metadata": {},
   "outputs": [],
   "source": [
    "target_names = dict(zip(np.unique(labels), attacks_cat))"
   ]
  },
  {
   "cell_type": "code",
   "execution_count": 19,
   "metadata": {},
   "outputs": [
    {
     "name": "stdout",
     "output_type": "stream",
     "text": [
      "============================= Printing Classification Report ==========================\n",
      "              precision    recall  f1-score   support\n",
      "\n",
      "         dos       1.00      1.00      1.00     78260\n",
      "     normal.       1.00      1.00      1.00     19522\n",
      "       probe       1.00      0.99      1.00       796\n",
      "         r2l       1.00      0.97      0.99       213\n",
      "         u2r       0.91      0.71      0.80        14\n",
      "\n",
      "   micro avg       1.00      1.00      1.00     98805\n",
      "   macro avg       0.98      0.94      0.96     98805\n",
      "weighted avg       1.00      1.00      1.00     98805\n",
      "\n",
      "============================= Confusion Matrix ===========================\n"
     ]
    }
   ],
   "source": [
    "reversefactor = target_names\n",
    "yy_test = np.vectorize(reversefactor.get)(y_test)\n",
    "yy_pred = np.vectorize(reversefactor.get)(y_pred)\n",
    "\n",
    "# print(\"============================= Labels Start ========================\")\n",
    "# print(np.unique(labels))\n",
    "# print(attacks)\n",
    "# a = [1,2]\n",
    "# b = np.array(a)\n",
    "# print(b.shape)\n",
    "\n",
    "# print(\"============================= Labels END ==========================\")\n",
    "\n",
    "print(\"============================= Printing Classification Report ==========================\")\n",
    "print(classification_report(yy_test, yy_pred))\n",
    "\n",
    "# # Making the Confusion Matrix\n",
    "print(\"============================= Confusion Matrix ===========================\")\n",
    "pd_cm = pd.crosstab(yy_test, yy_pred, rownames=['Actual'], colnames=['Predicted'])"
   ]
  },
  {
   "cell_type": "code",
   "execution_count": 20,
   "metadata": {},
   "outputs": [],
   "source": [
    "# pd_cm.to_csv('output/Categorized_Adaboost_Confusion_Matricx_Output_Full.csv', index_label = 'attacks|attacks')"
   ]
  },
  {
   "cell_type": "code",
   "execution_count": 21,
   "metadata": {},
   "outputs": [
    {
     "name": "stdout",
     "output_type": "stream",
     "text": [
      "Predicted    dos  normal.  probe  r2l  u2r\n",
      "Actual                                    \n",
      "dos        78257        3      0    0    0\n",
      "normal.        1    19521      0    0    0\n",
      "probe          0        4    792    0    0\n",
      "r2l            0        5      0  207    1\n",
      "u2r            0        4      0    0   10\n"
     ]
    }
   ],
   "source": [
    "print(pd_cm)"
   ]
  },
  {
   "cell_type": "code",
   "execution_count": 22,
   "metadata": {},
   "outputs": [],
   "source": [
    "from pandas_ml import ConfusionMatrix"
   ]
  },
  {
   "cell_type": "code",
   "execution_count": 23,
   "metadata": {},
   "outputs": [],
   "source": [
    "pdml_cm = ConfusionMatrix(yy_test, yy_pred)"
   ]
  },
  {
   "cell_type": "code",
   "execution_count": 24,
   "metadata": {},
   "outputs": [
    {
     "name": "stderr",
     "output_type": "stream",
     "text": [
      "C:\\Users\\Ferdous Anam\\Anaconda3\\lib\\site-packages\\pandas_ml\\confusion_matrix\\stats.py:60: FutureWarning: supplying multiple axes to axis is deprecated and will be removed in a future version.\n",
      "  num = df[df > 1].dropna(axis=[0, 1], thresh=1).applymap(lambda n: choose(n, 2)).sum().sum() - np.float64(nis2 * njs2) / n2\n",
      "C:\\Users\\Ferdous Anam\\Anaconda3\\lib\\site-packages\\pandas_ml\\confusion_matrix\\stats.py:60: RuntimeWarning: overflow encountered in longlong_scalars\n",
      "  num = df[df > 1].dropna(axis=[0, 1], thresh=1).applymap(lambda n: choose(n, 2)).sum().sum() - np.float64(nis2 * njs2) / n2\n",
      "C:\\Users\\Ferdous Anam\\Anaconda3\\lib\\site-packages\\pandas_ml\\confusion_matrix\\stats.py:61: RuntimeWarning: overflow encountered in longlong_scalars\n",
      "  den = (np.float64(nis2 + njs2) / 2 - np.float64(nis2 * njs2) / n2)\n"
     ]
    },
    {
     "name": "stdout",
     "output_type": "stream",
     "text": [
      "Confusion Matrix:\n",
      "\n",
      "Predicted    dos  normal.  probe  r2l  u2r  __all__\n",
      "Actual                                             \n",
      "dos        78257        3      0    0    0    78260\n",
      "normal.        1    19521      0    0    0    19522\n",
      "probe          0        4    792    0    0      796\n",
      "r2l            0        5      0  207    1      213\n",
      "u2r            0        4      0    0   10       14\n",
      "__all__    78258    19537    792  207   11    98805\n",
      "\n",
      "\n",
      "Overall Statistics:\n",
      "\n",
      "Accuracy: 0.9998178229846668\n",
      "95% CI: (0.999712096997046, 0.9998920268950069)\n",
      "No Information Rate: ToDo\n",
      "P-Value [Acc > NIR]: 0.0\n",
      "Kappa: 0.9994537607409096\n",
      "Mcnemar's Test P-Value: ToDo\n",
      "\n",
      "\n",
      "Class Statistics:\n",
      "\n",
      "Classes                                        dos      normal.        probe  \\\n",
      "Population                                   98805        98805        98805   \n",
      "P: Condition positive                        78260        19522          796   \n",
      "N: Condition negative                        20545        79283        98009   \n",
      "Test outcome positive                        78258        19537          792   \n",
      "Test outcome negative                        20547        79268        98013   \n",
      "TP: True Positive                            78257        19521          792   \n",
      "TN: True Negative                            20544        79267        98009   \n",
      "FP: False Positive                               1           16            0   \n",
      "FN: False Negative                               3            1            4   \n",
      "TPR: (Sensitivity, hit rate, recall)      0.999962     0.999949     0.994975   \n",
      "TNR=SPC: (Specificity)                    0.999951     0.999798            1   \n",
      "PPV: Pos Pred Value (Precision)           0.999987     0.999181            1   \n",
      "NPV: Neg Pred Value                       0.999854     0.999987     0.999959   \n",
      "FPR: False-out                         4.86736e-05  0.000201809            0   \n",
      "FDR: False Discovery Rate              1.27782e-05  0.000818959            0   \n",
      "FNR: Miss Rate                         3.83338e-05  5.12243e-05   0.00502513   \n",
      "ACC: Accuracy                              0.99996     0.999828      0.99996   \n",
      "F1 score                                  0.999974     0.999565     0.997481   \n",
      "MCC: Matthews correlation coefficient     0.999877     0.999458     0.997464   \n",
      "Informedness                              0.999913     0.999747     0.994975   \n",
      "Markedness                                0.999841     0.999168     0.999959   \n",
      "Prevalence                                0.792065     0.197581   0.00805627   \n",
      "LR+: Positive likelihood ratio             20544.2      4954.93          inf   \n",
      "LR-: Negative likelihood ratio         3.83356e-05  5.12346e-05   0.00502513   \n",
      "DOR: Diagnostic odds ratio             5.35904e+08  9.67107e+07          inf   \n",
      "FOR: False omission rate               0.000146007  1.26154e-05  4.08109e-05   \n",
      "\n",
      "Classes                                        r2l          u2r  \n",
      "Population                                   98805        98805  \n",
      "P: Condition positive                          213           14  \n",
      "N: Condition negative                        98592        98791  \n",
      "Test outcome positive                          207           11  \n",
      "Test outcome negative                        98598        98794  \n",
      "TP: True Positive                              207           10  \n",
      "TN: True Negative                            98592        98790  \n",
      "FP: False Positive                               0            1  \n",
      "FN: False Negative                               6            4  \n",
      "TPR: (Sensitivity, hit rate, recall)      0.971831     0.714286  \n",
      "TNR=SPC: (Specificity)                           1      0.99999  \n",
      "PPV: Pos Pred Value (Precision)                  1     0.909091  \n",
      "NPV: Neg Pred Value                       0.999939      0.99996  \n",
      "FPR: False-out                                   0  1.01224e-05  \n",
      "FDR: False Discovery Rate                        0    0.0909091  \n",
      "FNR: Miss Rate                            0.028169     0.285714  \n",
      "ACC: Accuracy                             0.999939     0.999949  \n",
      "F1 score                                  0.985714          0.8  \n",
      "MCC: Matthews correlation coefficient     0.985785     0.805799  \n",
      "Informedness                              0.971831     0.714276  \n",
      "Markedness                                0.999939      0.90905  \n",
      "Prevalence                              0.00215576  0.000141693  \n",
      "LR+: Positive likelihood ratio                 inf        70565  \n",
      "LR-: Negative likelihood ratio            0.028169     0.285717  \n",
      "DOR: Diagnostic odds ratio                     inf       246975  \n",
      "FOR: False omission rate               6.08532e-05  4.04883e-05  \n"
     ]
    },
    {
     "name": "stderr",
     "output_type": "stream",
     "text": [
      "C:\\Users\\Ferdous Anam\\Anaconda3\\lib\\site-packages\\pandas_ml\\confusion_matrix\\bcm.py:332: RuntimeWarning: divide by zero encountered in double_scalars\n",
      "  return(np.float64(self.TPR) / self.FPR)\n"
     ]
    }
   ],
   "source": [
    "pdml_cm.print_stats()"
   ]
  },
  {
   "cell_type": "code",
   "execution_count": 25,
   "metadata": {},
   "outputs": [],
   "source": [
    "# pdml_cm.stats()"
   ]
  },
  {
   "cell_type": "code",
   "execution_count": null,
   "metadata": {},
   "outputs": [],
   "source": []
  }
 ],
 "metadata": {
  "kernelspec": {
   "display_name": "Python 3",
   "language": "python",
   "name": "python3"
  },
  "language_info": {
   "codemirror_mode": {
    "name": "ipython",
    "version": 3
   },
   "file_extension": ".py",
   "mimetype": "text/x-python",
   "name": "python",
   "nbconvert_exporter": "python",
   "pygments_lexer": "ipython3",
   "version": "3.7.1"
  }
 },
 "nbformat": 4,
 "nbformat_minor": 2
}
